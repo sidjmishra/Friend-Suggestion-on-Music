{
  "nbformat": 4,
  "nbformat_minor": 0,
  "metadata": {
    "colab": {
      "name": "Similarity.ipynb",
      "provenance": [],
      "collapsed_sections": []
    },
    "kernelspec": {
      "name": "python3",
      "display_name": "Python 3"
    },
    "language_info": {
      "name": "python"
    }
  },
  "cells": [
    {
      "cell_type": "code",
      "execution_count": null,
      "metadata": {
        "id": "8u9YjtdOVOvI"
      },
      "outputs": [],
      "source": [
        "import string\n",
        "from sklearn.metrics.pairwise import cosine_similarity\n",
        "from sklearn.feature_extraction.text import CountVectorizer\n"
      ]
    },
    {
      "cell_type": "code",
      "source": [
        "def similarity(genres1, genres2):\n",
        "  g1=[]\n",
        "  g2=[]\n",
        "  genres = []\n",
        "  for genre in genres1:\n",
        "    g1.append(genre.replace(\" \",\"\"))\n",
        "\n",
        "  for genre in genres2:\n",
        "    g2.append(genre.replace(\" \",\"\"))\n",
        "\n",
        "  genres.append(' '.join(g1))\n",
        "  genres.append(' '.join(g2))\n",
        "  # print(genres)\n",
        "  vectorizer = CountVectorizer().fit_transform(genres)\n",
        "  vectors = vectorizer.toarray()\n",
        "  csim = cosine_similarity(vectors)\n",
        "  return csim[0][1]"
      ],
      "metadata": {
        "id": "CX3fd75RdNGt"
      },
      "execution_count": null,
      "outputs": []
    },
    {
      "cell_type": "markdown",
      "source": [
        "Testing"
      ],
      "metadata": {
        "id": "LjvZL-Vvd99D"
      }
    },
    {
      "cell_type": "code",
      "source": [
        "genres1 = [\"dance pop\",\n",
        "        \"dutch edm\",\n",
        "        \"edm\",\n",
        "        \"electro house\",\n",
        "        \"pop\",\n",
        "        \"pop dance\",\n",
        "        \"progressive house\",\n",
        "        \"tropical house\"]\n",
        "genres2 = [\n",
        "        \"edm\",\n",
        "        \"electro house\",\n",
        "        \"pop\",\n",
        "        \"tropical house\"];\n",
        "\n",
        "\n",
        "print(similarity(genres1, genres2))"
      ],
      "metadata": {
        "id": "EbffP0sRaV7s",
        "colab": {
          "base_uri": "https://localhost:8080/"
        },
        "outputId": "321ad24d-f060-4390-ba13-aa7967dc73c6"
      },
      "execution_count": null,
      "outputs": [
        {
          "output_type": "stream",
          "name": "stdout",
          "text": [
            "0.7071067811865475\n"
          ]
        }
      ]
    },
    {
      "cell_type": "markdown",
      "source": [
        "Completely Similar"
      ],
      "metadata": {
        "id": "FVtmez8gdu7G"
      }
    },
    {
      "cell_type": "code",
      "source": [
        "genres1 = [\"dance pop\",\n",
        "        \"dutch edm\",\n",
        "        \"edm\",\n",
        "        \"electro house\",\n",
        "        \"pop\",\n",
        "        \"pop dance\",\n",
        "        \"progressive house\",\n",
        "        \"tropical house\"]\n",
        "genres2 = [\"dance pop\",\n",
        "        \"dutch edm\",\n",
        "        \"edm\",\n",
        "        \"electro house\",\n",
        "        \"pop\",\n",
        "        \"pop dance\",\n",
        "        \"progressive house\",\n",
        "        \"tropical house\"];\n",
        "\n",
        "print(similarity(genres1, genres2))"
      ],
      "metadata": {
        "colab": {
          "base_uri": "https://localhost:8080/"
        },
        "id": "nq9kBAJMdl5I",
        "outputId": "82445d5b-b66e-4d5d-ac23-648dd0ea3b01"
      },
      "execution_count": null,
      "outputs": [
        {
          "output_type": "stream",
          "name": "stdout",
          "text": [
            "0.9999999999999999\n"
          ]
        }
      ]
    },
    {
      "cell_type": "markdown",
      "source": [
        "No similarity"
      ],
      "metadata": {
        "id": "j_CcYIPWdw5e"
      }
    },
    {
      "cell_type": "code",
      "source": [
        "genres1 = [\"dance pop\",\n",
        "        \"dutch edm\",\n",
        "        \"pop\"]\n",
        "genres2 = [\n",
        "        \"electro house\",\n",
        "        \"progressive house\",\n",
        "        \"tropical house\"];\n",
        "\n",
        "print(similarity(genres1, genres2))"
      ],
      "metadata": {
        "colab": {
          "base_uri": "https://localhost:8080/"
        },
        "id": "zfEOij1Zdq5-",
        "outputId": "cd295856-7dee-4bc8-aede-25820503bda9"
      },
      "execution_count": null,
      "outputs": [
        {
          "output_type": "stream",
          "name": "stdout",
          "text": [
            "0.0\n"
          ]
        }
      ]
    },
    {
      "cell_type": "code",
      "source": [
        ""
      ],
      "metadata": {
        "id": "Ki9HrhIAgUei"
      },
      "execution_count": null,
      "outputs": []
    }
  ]
}